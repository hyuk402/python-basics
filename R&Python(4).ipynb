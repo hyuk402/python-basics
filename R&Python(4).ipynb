{
  "nbformat": 4,
  "nbformat_minor": 0,
  "metadata": {
    "colab": {
      "name": "R&Python(4).ipynb",
      "provenance": [],
      "authorship_tag": "ABX9TyOIwb0B9xJCxkiNLLHMKzDo",
      "include_colab_link": true
    },
    "kernelspec": {
      "name": "python3",
      "display_name": "Python 3"
    }
  },
  "cells": [
    {
      "cell_type": "markdown",
      "metadata": {
        "id": "view-in-github",
        "colab_type": "text"
      },
      "source": [
        "<a href=\"https://colab.research.google.com/github/hyuk402/python-basics/blob/master/R%26Python(4).ipynb\" target=\"_parent\"><img src=\"https://colab.research.google.com/assets/colab-badge.svg\" alt=\"Open In Colab\"/></a>"
      ]
    },
    {
      "cell_type": "code",
      "metadata": {
        "id": "3zVFT_uzDVLl",
        "colab_type": "code",
        "colab": {}
      },
      "source": [
        "def my_merge(list1,list2):\n",
        "  '''merge(list1,list2) returns a list consisting of the original list1\n",
        "  along with any elements of list2 which were not already in list1'''\n",
        "  newlist = list1\n",
        "  for i in list2:\n",
        "    if i not in newlist:\n",
        "      newlist.append(i)\n",
        "  return(newlist)"
      ],
      "execution_count": 1,
      "outputs": []
    },
    {
      "cell_type": "code",
      "metadata": {
        "id": "XFzoYLZUGmd6",
        "colab_type": "code",
        "colab": {
          "base_uri": "https://localhost:8080/",
          "height": 35
        },
        "outputId": "c4526c4f-5b39-4bae-eb0f-fa89cee638de"
      },
      "source": [
        "one = [7,12,19,44,32]\n",
        "two = [8,12,19,31,44,66]\n",
        "my_merge(one,two)"
      ],
      "execution_count": 2,
      "outputs": [
        {
          "output_type": "execute_result",
          "data": {
            "text/plain": [
              "[7, 12, 19, 44, 32, 8, 31, 66]"
            ]
          },
          "metadata": {
            "tags": []
          },
          "execution_count": 2
        }
      ]
    },
    {
      "cell_type": "code",
      "metadata": {
        "id": "EFhNKfyVG3k_",
        "colab_type": "code",
        "colab": {
          "base_uri": "https://localhost:8080/",
          "height": 35
        },
        "outputId": "a322a24e-f483-4bcc-d947-720177a3a977"
      },
      "source": [
        "one"
      ],
      "execution_count": 3,
      "outputs": [
        {
          "output_type": "execute_result",
          "data": {
            "text/plain": [
              "[7, 12, 19, 44, 32, 8, 31, 66]"
            ]
          },
          "metadata": {
            "tags": []
          },
          "execution_count": 3
        }
      ]
    },
    {
      "cell_type": "code",
      "metadata": {
        "id": "4P7FXD-3G6gy",
        "colab_type": "code",
        "colab": {}
      },
      "source": [
        "def count_letter(string,letter):\n",
        "  count = 0\n",
        "  for i in string:\n",
        "    if i ==letter:\n",
        "      count += 1\n",
        "  return count"
      ],
      "execution_count": 4,
      "outputs": []
    },
    {
      "cell_type": "code",
      "metadata": {
        "id": "SgO7s22CHdro",
        "colab_type": "code",
        "colab": {
          "base_uri": "https://localhost:8080/",
          "height": 35
        },
        "outputId": "ee4a8423-869e-482f-b6fb-ff069ece67a9"
      },
      "source": [
        "count_letter('dead parrot','a')"
      ],
      "execution_count": 5,
      "outputs": [
        {
          "output_type": "execute_result",
          "data": {
            "text/plain": [
              "2"
            ]
          },
          "metadata": {
            "tags": []
          },
          "execution_count": 5
        }
      ]
    },
    {
      "cell_type": "code",
      "metadata": {
        "id": "WgHJvyoKHhsf",
        "colab_type": "code",
        "colab": {
          "base_uri": "https://localhost:8080/",
          "height": 35
        },
        "outputId": "c432ab30-0eee-427d-be27-f8a24404e73a"
      },
      "source": [
        "count_letter('a','dead parrot')"
      ],
      "execution_count": 6,
      "outputs": [
        {
          "output_type": "execute_result",
          "data": {
            "text/plain": [
              "0"
            ]
          },
          "metadata": {
            "tags": []
          },
          "execution_count": 6
        }
      ]
    },
    {
      "cell_type": "code",
      "metadata": {
        "id": "E5bqw3LBHlE7",
        "colab_type": "code",
        "colab": {
          "base_uri": "https://localhost:8080/",
          "height": 35
        },
        "outputId": "735a7699-856c-469b-ffc5-94247ddd849b"
      },
      "source": [
        "count_letter(string='dead parrot',letter='a')"
      ],
      "execution_count": 7,
      "outputs": [
        {
          "output_type": "execute_result",
          "data": {
            "text/plain": [
              "2"
            ]
          },
          "metadata": {
            "tags": []
          },
          "execution_count": 7
        }
      ]
    },
    {
      "cell_type": "code",
      "metadata": {
        "id": "V6wFeJcmHpRi",
        "colab_type": "code",
        "colab": {}
      },
      "source": [
        "def printinfo(name,age=35):\n",
        "  \"this prints a passed info into this function\"\n",
        "  print(\"Name\", name)\n",
        "  print(\"Age\", age)"
      ],
      "execution_count": 8,
      "outputs": []
    },
    {
      "cell_type": "code",
      "metadata": {
        "id": "grHtV-gLIBse",
        "colab_type": "code",
        "colab": {
          "base_uri": "https://localhost:8080/",
          "height": 53
        },
        "outputId": "1ab4c9c1-50c6-4f5d-fb57-fe96047788c4"
      },
      "source": [
        "printinfo(name=\"Miki\")"
      ],
      "execution_count": 9,
      "outputs": [
        {
          "output_type": "stream",
          "text": [
            "Name Miki\n",
            "Age 35\n"
          ],
          "name": "stdout"
        }
      ]
    },
    {
      "cell_type": "code",
      "metadata": {
        "id": "XzUgLKghIHaA",
        "colab_type": "code",
        "colab": {
          "base_uri": "https://localhost:8080/",
          "height": 53
        },
        "outputId": "f095f158-d597-4178-9c32-af35f2ffb665"
      },
      "source": [
        "printinfo(name=\"Miki\",age=60)"
      ],
      "execution_count": 10,
      "outputs": [
        {
          "output_type": "stream",
          "text": [
            "Name Miki\n",
            "Age 60\n"
          ],
          "name": "stdout"
        }
      ]
    },
    {
      "cell_type": "code",
      "metadata": {
        "id": "RRPpiLywIKTT",
        "colab_type": "code",
        "colab": {
          "base_uri": "https://localhost:8080/",
          "height": 53
        },
        "outputId": "85feea05-279d-43f2-eacd-a6e26b08915c"
      },
      "source": [
        "printinfo(age=65, name=\"Miki\")"
      ],
      "execution_count": 11,
      "outputs": [
        {
          "output_type": "stream",
          "text": [
            "Name Miki\n",
            "Age 65\n"
          ],
          "name": "stdout"
        }
      ]
    },
    {
      "cell_type": "code",
      "metadata": {
        "id": "dZpWQtPwIOrP",
        "colab_type": "code",
        "colab": {}
      },
      "source": [
        "def change_letter(string, frm='', to=''):\n",
        "  newstring = ''\n",
        "  for i in string:\n",
        "    if i == frm:\n",
        "      newstring = newstring + to\n",
        "    else:\n",
        "      newstring = newstring + i\n",
        "  return newstring"
      ],
      "execution_count": 13,
      "outputs": []
    },
    {
      "cell_type": "code",
      "metadata": {
        "id": "bmV_EXAlIptr",
        "colab_type": "code",
        "colab": {
          "base_uri": "https://localhost:8080/",
          "height": 35
        },
        "outputId": "535daa1f-2f2e-424b-e392-e7c5a2e726a5"
      },
      "source": [
        "change_letter(frm='b',string='string with blanks')"
      ],
      "execution_count": 17,
      "outputs": [
        {
          "output_type": "execute_result",
          "data": {
            "application/vnd.google.colaboratory.intrinsic": {
              "type": "string"
            },
            "text/plain": [
              "'string with lanks'"
            ]
          },
          "metadata": {
            "tags": []
          },
          "execution_count": 17
        }
      ]
    },
    {
      "cell_type": "code",
      "metadata": {
        "id": "WzjWbRjoJRj2",
        "colab_type": "code",
        "colab": {
          "base_uri": "https://localhost:8080/",
          "height": 35
        },
        "outputId": "1a98f978-7b86-4b9d-b7f9-4385dd270efd"
      },
      "source": [
        "change_letter('string with blanks',frm=' ',to='+')"
      ],
      "execution_count": 24,
      "outputs": [
        {
          "output_type": "execute_result",
          "data": {
            "application/vnd.google.colaboratory.intrinsic": {
              "type": "string"
            },
            "text/plain": [
              "'string+with+blanks'"
            ]
          },
          "metadata": {
            "tags": []
          },
          "execution_count": 24
        }
      ]
    },
    {
      "cell_type": "code",
      "metadata": {
        "id": "zjZaBBHkJmuh",
        "colab_type": "code",
        "colab": {}
      },
      "source": [
        " def printinfo(arg1, *vartuple):\n",
        "   \"This prints a variable passed arguments\"\n",
        "   print(\"Output is: \")\n",
        "   print(arg1)\n",
        "   for var in vartuple:\n",
        "     print(\"Output2 is: \")\n",
        "     print(var)"
      ],
      "execution_count": 25,
      "outputs": []
    },
    {
      "cell_type": "code",
      "metadata": {
        "id": "UEBA2c_ZM32Q",
        "colab_type": "code",
        "colab": {
          "base_uri": "https://localhost:8080/",
          "height": 53
        },
        "outputId": "c7354630-759b-425e-f2d7-2c76d10b499f"
      },
      "source": [
        "printinfo(10)"
      ],
      "execution_count": 26,
      "outputs": [
        {
          "output_type": "stream",
          "text": [
            "Output is: \n",
            "10\n"
          ],
          "name": "stdout"
        }
      ]
    },
    {
      "cell_type": "code",
      "metadata": {
        "id": "P3qAfACkM5xS",
        "colab_type": "code",
        "colab": {
          "base_uri": "https://localhost:8080/",
          "height": 233
        },
        "outputId": "0d3a1c58-1fe8-482a-cccb-eb7884482d3f"
      },
      "source": [
        "printinfo(10,22,33,44,55,66)"
      ],
      "execution_count": 27,
      "outputs": [
        {
          "output_type": "stream",
          "text": [
            "Output is: \n",
            "10\n",
            "Output2 is: \n",
            "22\n",
            "Output2 is: \n",
            "33\n",
            "Output2 is: \n",
            "44\n",
            "Output2 is: \n",
            "55\n",
            "Output2 is: \n",
            "66\n"
          ],
          "name": "stdout"
        }
      ]
    },
    {
      "cell_type": "code",
      "metadata": {
        "id": "VNmb8ZdmM8nh",
        "colab_type": "code",
        "colab": {}
      },
      "source": [
        "def intro_family(name, *family_names, **family_info):\n",
        "  print('my name: ', name)\n",
        "  print('My family: ')\n",
        "  for fn in family_names:\n",
        "    print(fn)\n",
        "  for k in family_info.keys():\n",
        "    print(k, \":\", family_info[k])\n"
      ],
      "execution_count": 28,
      "outputs": []
    },
    {
      "cell_type": "code",
      "metadata": {
        "id": "v2AIOv1DNdov",
        "colab_type": "code",
        "colab": {
          "base_uri": "https://localhost:8080/",
          "height": 125
        },
        "outputId": "c31fec94-7c37-4fa1-a1eb-00ca3c292b3e"
      },
      "source": [
        "intro_family('kim','Chris','anna',city='seoul',age=[3,1])"
      ],
      "execution_count": 29,
      "outputs": [
        {
          "output_type": "stream",
          "text": [
            "my name:  kim\n",
            "My family: \n",
            "Chris\n",
            "anna\n",
            "city : seoul\n",
            "age : [3, 1]\n"
          ],
          "name": "stdout"
        }
      ]
    },
    {
      "cell_type": "code",
      "metadata": {
        "id": "r9pOIUJCNk_O",
        "colab_type": "code",
        "colab": {}
      },
      "source": [
        "def sumftn(arg1, arg2):\n",
        "  total = arg1 + arg2\n",
        "  print('inside the function : ', total)\n",
        "  total2 = arg1 * arg2\n",
        "  return total2"
      ],
      "execution_count": 33,
      "outputs": []
    },
    {
      "cell_type": "code",
      "metadata": {
        "id": "SLrPYTRfN9o_",
        "colab_type": "code",
        "colab": {
          "base_uri": "https://localhost:8080/",
          "height": 35
        },
        "outputId": "78a8b0a4-c246-4f6d-d0b8-dcb43f903746"
      },
      "source": [
        "t_out = sumftn(10,20)"
      ],
      "execution_count": 34,
      "outputs": [
        {
          "output_type": "stream",
          "text": [
            "inside the function :  30\n"
          ],
          "name": "stdout"
        }
      ]
    },
    {
      "cell_type": "code",
      "metadata": {
        "id": "Anw6LEntOAi4",
        "colab_type": "code",
        "colab": {
          "base_uri": "https://localhost:8080/",
          "height": 35
        },
        "outputId": "19797e0d-4631-47ed-8e51-8371514415f9"
      },
      "source": [
        "print('outside the function : ', t_out)"
      ],
      "execution_count": 35,
      "outputs": [
        {
          "output_type": "stream",
          "text": [
            "outside the function :  200\n"
          ],
          "name": "stdout"
        }
      ]
    },
    {
      "cell_type": "code",
      "metadata": {
        "id": "T96xdTB6OSFp",
        "colab_type": "code",
        "colab": {}
      },
      "source": [
        "def SummationAndProduct(a,b):\n",
        "  total = 0\n",
        "  prod = 1\n",
        "  for n in range(a,b+1):\n",
        "    total += n\n",
        "    prod *= n\n",
        "  return total, prod"
      ],
      "execution_count": 40,
      "outputs": []
    },
    {
      "cell_type": "code",
      "metadata": {
        "id": "Q2msU-1sPGq_",
        "colab_type": "code",
        "colab": {
          "base_uri": "https://localhost:8080/",
          "height": 35
        },
        "outputId": "b9335fea-01cf-4bdd-c23d-8992d94a89a9"
      },
      "source": [
        "a = SummationAndProduct(1,10)\n",
        "print(a)"
      ],
      "execution_count": 41,
      "outputs": [
        {
          "output_type": "stream",
          "text": [
            "(55, 3628800)\n"
          ],
          "name": "stdout"
        }
      ]
    },
    {
      "cell_type": "code",
      "metadata": {
        "id": "eucJXvqfPKMu",
        "colab_type": "code",
        "colab": {
          "base_uri": "https://localhost:8080/",
          "height": 35
        },
        "outputId": "cdd19a3f-0151-4340-cdc2-9ce4bc0655e1"
      },
      "source": [
        "a1,a2 = SummationAndProduct(1,10)\n",
        "print(a1,a2)"
      ],
      "execution_count": 42,
      "outputs": [
        {
          "output_type": "stream",
          "text": [
            "55 3628800\n"
          ],
          "name": "stdout"
        }
      ]
    },
    {
      "cell_type": "code",
      "metadata": {
        "id": "E8c9zVyDPUSS",
        "colab_type": "code",
        "colab": {
          "base_uri": "https://localhost:8080/",
          "height": 35
        },
        "outputId": "a13f5f8b-ac85-43f6-cfa8-68e3c8caa43b"
      },
      "source": [
        "a1"
      ],
      "execution_count": 43,
      "outputs": [
        {
          "output_type": "execute_result",
          "data": {
            "text/plain": [
              "55"
            ]
          },
          "metadata": {
            "tags": []
          },
          "execution_count": 43
        }
      ]
    },
    {
      "cell_type": "code",
      "metadata": {
        "id": "pkxjy1rFPVcV",
        "colab_type": "code",
        "colab": {}
      },
      "source": [
        "total = 0\n",
        "def sum(arg1,arg2):\n",
        "  total = arg1 + arg2\n",
        "  print('inside the function local total:',total)\n",
        "  return total"
      ],
      "execution_count": 44,
      "outputs": []
    },
    {
      "cell_type": "code",
      "metadata": {
        "id": "B6l9MEeQPueQ",
        "colab_type": "code",
        "colab": {
          "base_uri": "https://localhost:8080/",
          "height": 53
        },
        "outputId": "b3565f27-66bf-475d-8ad9-ebff26ebf052"
      },
      "source": [
        "sum(1,2)"
      ],
      "execution_count": 45,
      "outputs": [
        {
          "output_type": "stream",
          "text": [
            "inside the function local total: 3\n"
          ],
          "name": "stdout"
        },
        {
          "output_type": "execute_result",
          "data": {
            "text/plain": [
              "3"
            ]
          },
          "metadata": {
            "tags": []
          },
          "execution_count": 45
        }
      ]
    },
    {
      "cell_type": "code",
      "metadata": {
        "id": "juwmXIFRPvuq",
        "colab_type": "code",
        "colab": {
          "base_uri": "https://localhost:8080/",
          "height": 35
        },
        "outputId": "4251713a-ab20-424f-c55c-c05f35f1e2d0"
      },
      "source": [
        "print('outside : ', total)"
      ],
      "execution_count": 46,
      "outputs": [
        {
          "output_type": "stream",
          "text": [
            "outside :  0\n"
          ],
          "name": "stdout"
        }
      ]
    },
    {
      "cell_type": "code",
      "metadata": {
        "id": "EwZGv9ndPyc1",
        "colab_type": "code",
        "colab": {}
      },
      "source": [
        "scale =10\n",
        "def doscale(list):\n",
        "  newlist=[]\n",
        "  for i in list:\n",
        "    newlist.append(i/scale)\n",
        "  return newlist"
      ],
      "execution_count": 47,
      "outputs": []
    },
    {
      "cell_type": "code",
      "metadata": {
        "id": "q5JxTvxmQBP7",
        "colab_type": "code",
        "colab": {
          "base_uri": "https://localhost:8080/",
          "height": 35
        },
        "outputId": "ee023fd6-9862-4a18-9873-7432fb17d603"
      },
      "source": [
        "mylist = [1,2,3,4,5]\n",
        "otherlist = doscale(mylist)\n",
        "print(otherlist)"
      ],
      "execution_count": 48,
      "outputs": [
        {
          "output_type": "stream",
          "text": [
            "[0.1, 0.2, 0.3, 0.4, 0.5]\n"
          ],
          "name": "stdout"
        }
      ]
    },
    {
      "cell_type": "code",
      "metadata": {
        "id": "q_1aF3ZAQNEp",
        "colab_type": "code",
        "colab": {}
      },
      "source": [
        "count = 0\n",
        "def doit(x):\n",
        "  global count\n",
        "  count += 1\n",
        "  return x + 1"
      ],
      "execution_count": 55,
      "outputs": []
    },
    {
      "cell_type": "code",
      "metadata": {
        "id": "8zzvRyGvQY7q",
        "colab_type": "code",
        "colab": {}
      },
      "source": [
        "tst = [10,19,25,18,17,23,29]\n",
        "for i in range(len(tst)):\n",
        "  if tst[i] % 2 ==1:\n",
        "    tst[i] = doit(tst[i])"
      ],
      "execution_count": 56,
      "outputs": []
    },
    {
      "cell_type": "code",
      "metadata": {
        "id": "wyeR5kz8QrsS",
        "colab_type": "code",
        "colab": {
          "base_uri": "https://localhost:8080/",
          "height": 35
        },
        "outputId": "f0180da4-07a0-48ab-9e27-c6cf21d830dc"
      },
      "source": [
        "tst"
      ],
      "execution_count": 57,
      "outputs": [
        {
          "output_type": "execute_result",
          "data": {
            "text/plain": [
              "[10, 20, 26, 18, 18, 24, 30]"
            ]
          },
          "metadata": {
            "tags": []
          },
          "execution_count": 57
        }
      ]
    },
    {
      "cell_type": "code",
      "metadata": {
        "id": "Wus-FUeUQspR",
        "colab_type": "code",
        "colab": {
          "base_uri": "https://localhost:8080/",
          "height": 35
        },
        "outputId": "7139e706-20fb-48fa-9a76-31aff2436846"
      },
      "source": [
        "count"
      ],
      "execution_count": 58,
      "outputs": [
        {
          "output_type": "execute_result",
          "data": {
            "text/plain": [
              "5"
            ]
          },
          "metadata": {
            "tags": []
          },
          "execution_count": 58
        }
      ]
    },
    {
      "cell_type": "code",
      "metadata": {
        "id": "oNA-AWmwQtmK",
        "colab_type": "code",
        "colab": {
          "base_uri": "https://localhost:8080/",
          "height": 35
        },
        "outputId": "b8bac388-ee5e-4e8c-c3a6-17b3d5a169cb"
      },
      "source": [
        "lambda x: x+1"
      ],
      "execution_count": 60,
      "outputs": [
        {
          "output_type": "execute_result",
          "data": {
            "text/plain": [
              "<function __main__.<lambda>>"
            ]
          },
          "metadata": {
            "tags": []
          },
          "execution_count": 60
        }
      ]
    },
    {
      "cell_type": "code",
      "metadata": {
        "id": "FW86LvYOWFZZ",
        "colab_type": "code",
        "colab": {
          "base_uri": "https://localhost:8080/",
          "height": 35
        },
        "outputId": "c9397dff-05e8-4355-a1cc-6a1682076403"
      },
      "source": [
        "first = ['Joe','Sue','Harry']\n",
        "last = ['Smith','Wiliiams','Brown']\n",
        "list(map(lambda a,b : a+' '+b, first, last))"
      ],
      "execution_count": 61,
      "outputs": [
        {
          "output_type": "execute_result",
          "data": {
            "text/plain": [
              "['Joe Smith', 'Sue Wiliiams', 'Harry Brown']"
            ]
          },
          "metadata": {
            "tags": []
          },
          "execution_count": 61
        }
      ]
    },
    {
      "cell_type": "code",
      "metadata": {
        "id": "ZFrO-A9JWifk",
        "colab_type": "code",
        "colab": {
          "base_uri": "https://localhost:8080/",
          "height": 35
        },
        "outputId": "d65e5572-1e9f-4d28-df56-7b05187273e0"
      },
      "source": [
        "list_1 = [1,2,3,4,5,6]\n",
        "list_2 = list(map(lambda x:x**3, list_1))\n",
        "print(list_2)"
      ],
      "execution_count": 62,
      "outputs": [
        {
          "output_type": "stream",
          "text": [
            "[1, 8, 27, 64, 125, 216]\n"
          ],
          "name": "stdout"
        }
      ]
    },
    {
      "cell_type": "code",
      "metadata": {
        "id": "Lg_FZIWPWrx9",
        "colab_type": "code",
        "colab": {
          "base_uri": "https://localhost:8080/",
          "height": 35
        },
        "outputId": "39184d64-1315-495f-b3df-8bc3ec260a60"
      },
      "source": [
        "list(filter(lambda x: x>3,list_1))"
      ],
      "execution_count": 63,
      "outputs": [
        {
          "output_type": "execute_result",
          "data": {
            "text/plain": [
              "[4, 5, 6]"
            ]
          },
          "metadata": {
            "tags": []
          },
          "execution_count": 63
        }
      ]
    },
    {
      "cell_type": "code",
      "metadata": {
        "id": "x-XXm7vzW4rk",
        "colab_type": "code",
        "colab": {
          "base_uri": "https://localhost:8080/",
          "height": 35
        },
        "outputId": "4eb9adf3-fe5b-422b-bdff-5ad87011e6a5"
      },
      "source": [
        "list(map(lambda x: x+10, filter(lambda x: x> 2, list_1)))"
      ],
      "execution_count": 66,
      "outputs": [
        {
          "output_type": "execute_result",
          "data": {
            "text/plain": [
              "[13, 14, 15, 16]"
            ]
          },
          "metadata": {
            "tags": []
          },
          "execution_count": 66
        }
      ]
    },
    {
      "cell_type": "code",
      "metadata": {
        "id": "KV1VtZFmW9wG",
        "colab_type": "code",
        "colab": {}
      },
      "source": [
        ""
      ],
      "execution_count": null,
      "outputs": []
    }
  ]
}