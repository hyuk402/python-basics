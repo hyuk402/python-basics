{
  "nbformat": 4,
  "nbformat_minor": 0,
  "metadata": {
    "colab": {
      "name": "R&Python(3).ipynb",
      "provenance": [],
      "authorship_tag": "ABX9TyOy7v9No/7zCz4EGc6+kz5n",
      "include_colab_link": true
    },
    "kernelspec": {
      "name": "python3",
      "display_name": "Python 3"
    }
  },
  "cells": [
    {
      "cell_type": "markdown",
      "metadata": {
        "id": "view-in-github",
        "colab_type": "text"
      },
      "source": [
        "<a href=\"https://colab.research.google.com/github/hyuk402/python-basics/blob/master/R%26Python(3).ipynb\" target=\"_parent\"><img src=\"https://colab.research.google.com/assets/colab-badge.svg\" alt=\"Open In Colab\"/></a>"
      ]
    },
    {
      "cell_type": "code",
      "metadata": {
        "id": "Vw7f3dihA-pm",
        "colab_type": "code",
        "colab": {}
      },
      "source": [
        "exam1 = 90; exam2 =85\n",
        "if (exam1 >= 90) and (exam2>=90):\n",
        "  print('Excellent')"
      ],
      "execution_count": 1,
      "outputs": []
    },
    {
      "cell_type": "code",
      "metadata": {
        "id": "E-f3Iu__QcJy",
        "colab_type": "code",
        "colab": {
          "base_uri": "https://localhost:8080/",
          "height": 35
        },
        "outputId": "8e440733-0cb3-4dda-c878-08910e25e164"
      },
      "source": [
        "if (exam1 >= 90) or (exam2>=90):\n",
        "  print('Excellent')"
      ],
      "execution_count": 2,
      "outputs": [
        {
          "output_type": "stream",
          "text": [
            "Excellent\n"
          ],
          "name": "stdout"
        }
      ]
    },
    {
      "cell_type": "code",
      "metadata": {
        "id": "XoGAiFAoQjsg",
        "colab_type": "code",
        "colab": {
          "base_uri": "https://localhost:8080/",
          "height": 35
        },
        "outputId": "6d666760-4696-43a6-98af-d25a81a5db80"
      },
      "source": [
        "a = 10\n",
        "if a > 10:\n",
        "  print('value is greater than 10')\n",
        "else:\n",
        "  print('value is 10')"
      ],
      "execution_count": 3,
      "outputs": [
        {
          "output_type": "stream",
          "text": [
            "value is 10\n"
          ],
          "name": "stdout"
        }
      ]
    },
    {
      "cell_type": "code",
      "metadata": {
        "id": "4R4OTXYqRIku",
        "colab_type": "code",
        "colab": {
          "base_uri": "https://localhost:8080/",
          "height": 35
        },
        "outputId": "bb26e0d1-9ed5-4960-ebe0-53d2a4f46313"
      },
      "source": [
        "modeA='Green' ; modeB = 'hot'\n",
        "if modeA.lower()=='green' and modeB.lower() != 'cold':\n",
        "  print('What I am looking for')\n",
        "else:\n",
        "  print('NO match')"
      ],
      "execution_count": 4,
      "outputs": [
        {
          "output_type": "stream",
          "text": [
            "What I am looking for\n"
          ],
          "name": "stdout"
        }
      ]
    },
    {
      "cell_type": "code",
      "metadata": {
        "id": "Eo9f-og6RfDI",
        "colab_type": "code",
        "colab": {
          "base_uri": "https://localhost:8080/",
          "height": 35
        },
        "outputId": "422520d7-6aba-4e81-9824-7025c109d762"
      },
      "source": [
        "score = 87\n",
        "if score >= 90:\n",
        "  print('A')\n",
        "elif score >= 80:\n",
        "  print('B')\n",
        "else:\n",
        "  print('C')"
      ],
      "execution_count": 5,
      "outputs": [
        {
          "output_type": "stream",
          "text": [
            "B\n"
          ],
          "name": "stdout"
        }
      ]
    },
    {
      "cell_type": "code",
      "metadata": {
        "id": "8qIOc_Q8SM8P",
        "colab_type": "code",
        "colab": {
          "base_uri": "https://localhost:8080/",
          "height": 35
        },
        "outputId": "6abb8e0a-6fde-4324-f257-6fd5563aeadb"
      },
      "source": [
        "var1 = 1+2j\n",
        "if (type(var1)==int):\n",
        "  print('type  of variable is integer')\n",
        "elif (type(var1)==float):\n",
        "  print('type of variable is float')\n",
        "elif (type(var1)==complex):\n",
        "  print('type of variable is complex')\n",
        "elif(type(var1)==bool):\n",
        "  print('type of variable is bool')\n",
        "else:\n",
        "  print('type of variable is unknown')"
      ],
      "execution_count": 7,
      "outputs": [
        {
          "output_type": "stream",
          "text": [
            "type of variable is complex\n"
          ],
          "name": "stdout"
        }
      ]
    },
    {
      "cell_type": "code",
      "metadata": {
        "id": "Z8AvYfubS3kb",
        "colab_type": "code",
        "colab": {
          "base_uri": "https://localhost:8080/",
          "height": 35
        },
        "outputId": "d7c1a52e-807b-48cd-8187-f10212ed38fe"
      },
      "source": [
        "if exam1 >= 90:\n",
        "  print('good')\n",
        "else:\n",
        "  if exam2>=90:\n",
        "    print('Good')"
      ],
      "execution_count": 8,
      "outputs": [
        {
          "output_type": "stream",
          "text": [
            "good\n"
          ],
          "name": "stdout"
        }
      ]
    },
    {
      "cell_type": "code",
      "metadata": {
        "id": "-GHRpUOhTLOP",
        "colab_type": "code",
        "colab": {
          "base_uri": "https://localhost:8080/",
          "height": 35
        },
        "outputId": "1cf3128d-968a-4841-d670-52e9880c175e"
      },
      "source": [
        "v=3\n",
        "if v>1: print('v is greater than 1')"
      ],
      "execution_count": 9,
      "outputs": [
        {
          "output_type": "stream",
          "text": [
            "v is greater than 1\n"
          ],
          "name": "stdout"
        }
      ]
    },
    {
      "cell_type": "code",
      "metadata": {
        "id": "iPbvrzUfTSyF",
        "colab_type": "code",
        "colab": {
          "base_uri": "https://localhost:8080/",
          "height": 71
        },
        "outputId": "707e6446-9cb9-44da-9548-ee0485435363"
      },
      "source": [
        "fruits = ['banana','apple','mango']\n",
        "for fruit in fruits:\n",
        "  print('Current fruit:', fruit)"
      ],
      "execution_count": 12,
      "outputs": [
        {
          "output_type": "stream",
          "text": [
            "Current fruit: banana\n",
            "Current fruit: apple\n",
            "Current fruit: mango\n"
          ],
          "name": "stdout"
        }
      ]
    },
    {
      "cell_type": "code",
      "metadata": {
        "id": "IEJBHgcMVbph",
        "colab_type": "code",
        "colab": {
          "base_uri": "https://localhost:8080/",
          "height": 71
        },
        "outputId": "aa6fe874-c5eb-4981-da5c-c144a8da56b1"
      },
      "source": [
        "for var in list(range(3)):\n",
        "  print(var)"
      ],
      "execution_count": 13,
      "outputs": [
        {
          "output_type": "stream",
          "text": [
            "0\n",
            "1\n",
            "2\n"
          ],
          "name": "stdout"
        }
      ]
    },
    {
      "cell_type": "code",
      "metadata": {
        "id": "sgLU9a05ayMJ",
        "colab_type": "code",
        "colab": {
          "base_uri": "https://localhost:8080/",
          "height": 89
        },
        "outputId": "245f4f83-d741-490b-954c-d9b0ca4f910c"
      },
      "source": [
        "for idx in range(len(fruits)):\n",
        "  print('Current fruit:',fruits[idx])\n",
        "print('good bye')"
      ],
      "execution_count": 14,
      "outputs": [
        {
          "output_type": "stream",
          "text": [
            "Current fruit: banana\n",
            "Current fruit: apple\n",
            "Current fruit: mango\n",
            "good bye\n"
          ],
          "name": "stdout"
        }
      ]
    },
    {
      "cell_type": "code",
      "metadata": {
        "id": "If3Wb_1qbAIo",
        "colab_type": "code",
        "colab": {}
      },
      "source": [
        "count = 0\n",
        "for i in range(10):\n",
        "  for j in range(10):\n",
        "    count +=j"
      ],
      "execution_count": 16,
      "outputs": []
    },
    {
      "cell_type": "code",
      "metadata": {
        "id": "qR8OYF5KbL6F",
        "colab_type": "code",
        "colab": {
          "base_uri": "https://localhost:8080/",
          "height": 35
        },
        "outputId": "99879eeb-ea4c-4375-e0e0-4c7101d80979"
      },
      "source": [
        "count"
      ],
      "execution_count": 17,
      "outputs": [
        {
          "output_type": "execute_result",
          "data": {
            "text/plain": [
              "450"
            ]
          },
          "metadata": {
            "tags": []
          },
          "execution_count": 17
        }
      ]
    },
    {
      "cell_type": "code",
      "metadata": {
        "id": "e9SbEVsobQ1i",
        "colab_type": "code",
        "colab": {
          "base_uri": "https://localhost:8080/",
          "height": 35
        },
        "outputId": "6015bd87-6224-475f-f532-1d4bb5866112"
      },
      "source": [
        "count = 0\n",
        "returns = [11,-13,15,16,18,19,21]\n",
        "for j in returns:\n",
        "  if j > 0:\n",
        "    count += 1\n",
        "count"
      ],
      "execution_count": 18,
      "outputs": [
        {
          "output_type": "execute_result",
          "data": {
            "text/plain": [
              "6"
            ]
          },
          "metadata": {
            "tags": []
          },
          "execution_count": 18
        }
      ]
    },
    {
      "cell_type": "code",
      "metadata": {
        "id": "-oppCEb1b3R4",
        "colab_type": "code",
        "colab": {
          "base_uri": "https://localhost:8080/",
          "height": 161
        },
        "outputId": "f09f6c17-7564-42bc-ff99-190a3e325b6a"
      },
      "source": [
        "x = range(0,40,11)\n",
        "for i,x in enumerate(x):\n",
        "  print('index:',i)\n",
        "  print('value:',x)"
      ],
      "execution_count": 20,
      "outputs": [
        {
          "output_type": "stream",
          "text": [
            "index: 0\n",
            "value: 0\n",
            "index: 1\n",
            "value: 11\n",
            "index: 2\n",
            "value: 22\n",
            "index: 3\n",
            "value: 33\n"
          ],
          "name": "stdout"
        }
      ]
    },
    {
      "cell_type": "code",
      "metadata": {
        "id": "78FyeIvycHPl",
        "colab_type": "code",
        "colab": {
          "base_uri": "https://localhost:8080/",
          "height": 71
        },
        "outputId": "c3e9ca2e-0dcd-4706-fd07-e2adc4a57d61"
      },
      "source": [
        "names = [('Smith','John'),('Jones','Fred'),('Williams','Sue')]\n",
        "for last, first in names:\n",
        "  print(last,first)"
      ],
      "execution_count": 21,
      "outputs": [
        {
          "output_type": "stream",
          "text": [
            "Smith John\n",
            "Jones Fred\n",
            "Williams Sue\n"
          ],
          "name": "stdout"
        }
      ]
    },
    {
      "cell_type": "code",
      "metadata": {
        "id": "RqON9H07dyCC",
        "colab_type": "code",
        "colab": {
          "base_uri": "https://localhost:8080/",
          "height": 71
        },
        "outputId": "c0741df7-7a8b-4585-a247-7ed71f3cae38"
      },
      "source": [
        "for k in range(3): print(k*3)"
      ],
      "execution_count": 22,
      "outputs": [
        {
          "output_type": "stream",
          "text": [
            "0\n",
            "3\n",
            "6\n"
          ],
          "name": "stdout"
        }
      ]
    },
    {
      "cell_type": "code",
      "metadata": {
        "id": "p3knz-JTd122",
        "colab_type": "code",
        "colab": {
          "base_uri": "https://localhost:8080/",
          "height": 35
        },
        "outputId": "ac30b23c-f298-472f-8c75-3ceef500b313"
      },
      "source": [
        "n = 10\n",
        "sum = 0\n",
        "i = 1\n",
        "while i <= n:\n",
        "  sum = sum + i \n",
        "  i = i+1\n",
        "print('the sum is', sum)"
      ],
      "execution_count": 23,
      "outputs": [
        {
          "output_type": "stream",
          "text": [
            "the sum is 55\n"
          ],
          "name": "stdout"
        }
      ]
    },
    {
      "cell_type": "code",
      "metadata": {
        "id": "zR9Nfb1ReiJx",
        "colab_type": "code",
        "colab": {
          "base_uri": "https://localhost:8080/",
          "height": 35
        },
        "outputId": "81458a1d-81db-485d-9bc9-c01502bf400f"
      },
      "source": [
        "maxsum = 50\n",
        "sum = 0\n",
        "i =0\n",
        "while sum <= maxsum:\n",
        "  i = i+1\n",
        "  sum = sum+ i \n",
        "print('the sequence is', list(range(1,i+1)))"
      ],
      "execution_count": 24,
      "outputs": [
        {
          "output_type": "stream",
          "text": [
            "the sequence is [1, 2, 3, 4, 5, 6, 7, 8, 9, 10]\n"
          ],
          "name": "stdout"
        }
      ]
    },
    {
      "cell_type": "code",
      "metadata": {
        "id": "P-IZYlr0ew7U",
        "colab_type": "code",
        "colab": {}
      },
      "source": [
        "a = 10\n",
        "while a > 4 : a -= 3"
      ],
      "execution_count": 25,
      "outputs": []
    },
    {
      "cell_type": "code",
      "metadata": {
        "id": "EeYIBnpqe64I",
        "colab_type": "code",
        "colab": {
          "base_uri": "https://localhost:8080/",
          "height": 35
        },
        "outputId": "61055bf3-4416-470d-afd3-38b4ad610181"
      },
      "source": [
        "a"
      ],
      "execution_count": 26,
      "outputs": [
        {
          "output_type": "execute_result",
          "data": {
            "text/plain": [
              "4"
            ]
          },
          "metadata": {
            "tags": []
          },
          "execution_count": 26
        }
      ]
    },
    {
      "cell_type": "code",
      "metadata": {
        "id": "rMlTDNEGe7V9",
        "colab_type": "code",
        "colab": {
          "base_uri": "https://localhost:8080/",
          "height": 107
        },
        "outputId": "eca682df-eba8-4529-ecee-d4991d070edb"
      },
      "source": [
        "var = 10\n",
        "while var > 0:\n",
        "  print('current variable value:', var)\n",
        "  var = var - 1\n",
        "  if var == 5:\n",
        "    break"
      ],
      "execution_count": 27,
      "outputs": [
        {
          "output_type": "stream",
          "text": [
            "current variable value: 10\n",
            "current variable value: 9\n",
            "current variable value: 8\n",
            "current variable value: 7\n",
            "current variable value: 6\n"
          ],
          "name": "stdout"
        }
      ]
    },
    {
      "cell_type": "code",
      "metadata": {
        "id": "Uz_g98mUfTea",
        "colab_type": "code",
        "colab": {
          "base_uri": "https://localhost:8080/",
          "height": 107
        },
        "outputId": "a4f3346b-a3eb-464d-b3d5-b509f80f04ba"
      },
      "source": [
        "for letter in 'Python':\n",
        "  if letter == 'h':\n",
        "    continue\n",
        "  print('Current:', letter)"
      ],
      "execution_count": 29,
      "outputs": [
        {
          "output_type": "stream",
          "text": [
            "Current: P\n",
            "Current: y\n",
            "Current: t\n",
            "Current: o\n",
            "Current: n\n"
          ],
          "name": "stdout"
        }
      ]
    },
    {
      "cell_type": "code",
      "metadata": {
        "id": "zEoXEV7ofjVI",
        "colab_type": "code",
        "colab": {
          "base_uri": "https://localhost:8080/",
          "height": 35
        },
        "outputId": "da57bb07-06ff-44b9-d117-8bec11b3acc6"
      },
      "source": [
        "oldlist = [7,9,3,4,1,12]\n",
        "newlist = []\n",
        "for i in oldlist:\n",
        "  newlist.append(i*i)\n",
        "newlist"
      ],
      "execution_count": 30,
      "outputs": [
        {
          "output_type": "execute_result",
          "data": {
            "text/plain": [
              "[49, 81, 9, 16, 1, 144]"
            ]
          },
          "metadata": {
            "tags": []
          },
          "execution_count": 30
        }
      ]
    },
    {
      "cell_type": "code",
      "metadata": {
        "id": "FuMmqLV1gAvG",
        "colab_type": "code",
        "colab": {
          "base_uri": "https://localhost:8080/",
          "height": 35
        },
        "outputId": "dd351827-47aa-4577-de14-49d45d9deb55"
      },
      "source": [
        "newlist2 = [j*j for j in oldlist]\n",
        "newlist2"
      ],
      "execution_count": 32,
      "outputs": [
        {
          "output_type": "execute_result",
          "data": {
            "text/plain": [
              "[49, 81, 9, 16, 1, 144]"
            ]
          },
          "metadata": {
            "tags": []
          },
          "execution_count": 32
        }
      ]
    },
    {
      "cell_type": "code",
      "metadata": {
        "id": "_Ovv14xYgKJi",
        "colab_type": "code",
        "colab": {
          "base_uri": "https://localhost:8080/",
          "height": 35
        },
        "outputId": "2b8ee5f5-bc53-4968-b963-ee28089ea8a4"
      },
      "source": [
        "[ number for number in range(1,6) if number % 2 ==1]"
      ],
      "execution_count": 33,
      "outputs": [
        {
          "output_type": "execute_result",
          "data": {
            "text/plain": [
              "[1, 3, 5]"
            ]
          },
          "metadata": {
            "tags": []
          },
          "execution_count": 33
        }
      ]
    },
    {
      "cell_type": "code",
      "metadata": {
        "id": "JAmZLxajgV5P",
        "colab_type": "code",
        "colab": {
          "base_uri": "https://localhost:8080/",
          "height": 35
        },
        "outputId": "dae54038-7d13-495b-f921-aa2f0261eb37"
      },
      "source": [
        "[(x,y) for x in range(2) for y in range(4)]"
      ],
      "execution_count": 34,
      "outputs": [
        {
          "output_type": "execute_result",
          "data": {
            "text/plain": [
              "[(0, 0), (0, 1), (0, 2), (0, 3), (1, 0), (1, 1), (1, 2), (1, 3)]"
            ]
          },
          "metadata": {
            "tags": []
          },
          "execution_count": 34
        }
      ]
    },
    {
      "cell_type": "code",
      "metadata": {
        "id": "T5rWniYhgeAk",
        "colab_type": "code",
        "colab": {
          "base_uri": "https://localhost:8080/",
          "height": 35
        },
        "outputId": "30dd2961-bcab-4f43-83eb-2d797fd4987c"
      },
      "source": [
        "[(x,y) for x in range(3) if x in (1,2) for y in range(4) if y ==0]"
      ],
      "execution_count": 35,
      "outputs": [
        {
          "output_type": "execute_result",
          "data": {
            "text/plain": [
              "[(1, 0), (2, 0)]"
            ]
          },
          "metadata": {
            "tags": []
          },
          "execution_count": 35
        }
      ]
    },
    {
      "cell_type": "code",
      "metadata": {
        "id": "Q7nYa42TgsLj",
        "colab_type": "code",
        "colab": {
          "base_uri": "https://localhost:8080/",
          "height": 35
        },
        "outputId": "f23066ff-5003-4a43-d865-b1f9b9f514fe"
      },
      "source": [
        "[(x,y) for x in range(3) for y in range(4) if x+y <3]"
      ],
      "execution_count": 36,
      "outputs": [
        {
          "output_type": "execute_result",
          "data": {
            "text/plain": [
              "[(0, 0), (0, 1), (0, 2), (1, 0), (1, 1), (2, 0)]"
            ]
          },
          "metadata": {
            "tags": []
          },
          "execution_count": 36
        }
      ]
    },
    {
      "cell_type": "code",
      "metadata": {
        "id": "4_TE9tBDg3Kj",
        "colab_type": "code",
        "colab": {
          "base_uri": "https://localhost:8080/",
          "height": 35
        },
        "outputId": "c1b14f0c-f8fd-4d5f-ae64-39ccdde7d1a9"
      },
      "source": [
        "x = list(range(-5,5))\n",
        "z_set = {x[i]**2 for i in range(len(x))}\n",
        "z_set"
      ],
      "execution_count": 38,
      "outputs": [
        {
          "output_type": "execute_result",
          "data": {
            "text/plain": [
              "{0, 1, 4, 9, 16, 25}"
            ]
          },
          "metadata": {
            "tags": []
          },
          "execution_count": 38
        }
      ]
    },
    {
      "cell_type": "code",
      "metadata": {
        "id": "uXdZ_mithG4t",
        "colab_type": "code",
        "colab": {
          "base_uri": "https://localhost:8080/",
          "height": 35
        },
        "outputId": "1df25c1e-7f1b-47df-afc5-a84a1d68326e"
      },
      "source": [
        "z_tuple = tuple(i**3 for i in x)\n",
        "z_tuple"
      ],
      "execution_count": 40,
      "outputs": [
        {
          "output_type": "execute_result",
          "data": {
            "text/plain": [
              "(-125, -64, -27, -8, -1, 0, 1, 8, 27, 64)"
            ]
          },
          "metadata": {
            "tags": []
          },
          "execution_count": 40
        }
      ]
    },
    {
      "cell_type": "code",
      "metadata": {
        "id": "j_1fHLjAhYUC",
        "colab_type": "code",
        "colab": {
          "base_uri": "https://localhost:8080/",
          "height": 35
        },
        "outputId": "54c6bd62-03b5-4214-b8fe-19bc5e9c9781"
      },
      "source": [
        "word = 'letters'\n",
        "letter_counts = {letter: word.count(letter) for letter in set(word)}\n",
        "letter_counts"
      ],
      "execution_count": 41,
      "outputs": [
        {
          "output_type": "execute_result",
          "data": {
            "text/plain": [
              "{'e': 2, 'l': 1, 'r': 1, 's': 1, 't': 2}"
            ]
          },
          "metadata": {
            "tags": []
          },
          "execution_count": 41
        }
      ]
    },
    {
      "cell_type": "code",
      "metadata": {
        "id": "sWdQGF03hour",
        "colab_type": "code",
        "colab": {}
      },
      "source": [
        ""
      ],
      "execution_count": null,
      "outputs": []
    }
  ]
}